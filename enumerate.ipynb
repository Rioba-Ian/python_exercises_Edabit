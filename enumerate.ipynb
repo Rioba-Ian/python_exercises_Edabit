{
 "metadata": {
  "language_info": {
   "codemirror_mode": {
    "name": "ipython",
    "version": 3
   },
   "file_extension": ".py",
   "mimetype": "text/x-python",
   "name": "python",
   "nbconvert_exporter": "python",
   "pygments_lexer": "ipython3",
   "version": "3.8.5-final"
  },
  "orig_nbformat": 2,
  "kernelspec": {
   "name": "python3",
   "display_name": "Python 3.8.5 64-bit",
   "metadata": {
    "interpreter": {
     "hash": "31f2aee4e71d21fbe5cf8b01ff0e069b9275f58929596ceb00d14d90e3e16cd6"
    }
   }
  }
 },
 "nbformat": 4,
 "nbformat_minor": 2,
 "cells": [
  {
   "cell_type": "code",
   "execution_count": 3,
   "metadata": {},
   "outputs": [
    {
     "output_type": "stream",
     "name": "stdout",
     "text": [
      "0 left\n1 right\n2 up\n3 down\n"
     ]
    }
   ],
   "source": [
    "example = ['left', 'right', 'up', 'down']\n",
    "\n",
    "# for i in range(len(example)):\n",
    "#     print(i, example[i])\n",
    "\n",
    "for i, j in enumerate(example):\n",
    "    print(i, j)"
   ]
  },
  {
   "cell_type": "code",
   "execution_count": 5,
   "metadata": {},
   "outputs": [
    {
     "output_type": "stream",
     "name": "stdout",
     "text": [
      "{0: 'left', 1: 'right', 2: 'up', 3: 'down'}\n0 0\n1 1\n2 2\n3 3\n"
     ]
    },
    {
     "output_type": "execute_result",
     "data": {
      "text/plain": [
       "[None, None, None, None]"
      ]
     },
     "metadata": {},
     "execution_count": 5
    }
   ],
   "source": [
    "new_dict = dict(enumerate(example))\n",
    "\n",
    "print(new_dict)\n",
    "\n",
    "[print(i,j) for i, j in enumerate(new_dict)]"
   ]
  },
  {
   "cell_type": "code",
   "execution_count": 10,
   "metadata": {},
   "outputs": [
    {
     "output_type": "stream",
     "name": "stdout",
     "text": [
      "1 5\n2 6\n3 7\n4 8\n"
     ]
    },
    {
     "output_type": "execute_result",
     "data": {
      "text/plain": [
       "[None, None, None, None]"
      ]
     },
     "metadata": {},
     "execution_count": 10
    }
   ],
   "source": [
    "x = [1, 2, 3, 4]\n",
    "y = [5, 6, 7, 8]\n",
    "z = ['a', 'b', 'c', 'd']\n",
    "\n",
    "# for a,b,c in zip(x, y, z):\n",
    "#     print(a, b, c)\n",
    "\n",
    "# print(zip(x, y, z))\n",
    "\n",
    "# [print(a, b, c) for a, b, c in zip (x, y, z) ]\n",
    "\n",
    "[print(x, y) for x, y in zip(x, y)]"
   ]
  },
  {
   "cell_type": "code",
   "execution_count": null,
   "metadata": {},
   "outputs": [],
   "source": []
  }
 ]
}